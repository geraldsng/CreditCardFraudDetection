{
  "nbformat": 4,
  "nbformat_minor": 0,
  "metadata": {
    "colab": {
      "name": "Credit Card Fraud Detection",
      "provenance": [],
      "include_colab_link": true
    },
    "kernelspec": {
      "name": "python3",
      "display_name": "Python 3"
    },
    "language_info": {
      "name": "python"
    }
  },
  "cells": [
    {
      "cell_type": "markdown",
      "metadata": {
        "id": "view-in-github",
        "colab_type": "text"
      },
      "source": [
        "<a href=\"https://colab.research.google.com/github/geraldsng/CreditCardFraudDetection/blob/main/Credit_Card_Fraud_Detection.ipynb\" target=\"_parent\"><img src=\"https://colab.research.google.com/assets/colab-badge.svg\" alt=\"Open In Colab\"/></a>"
      ]
    },
    {
      "cell_type": "markdown",
      "source": [
        "# Final Project for CET023 - AI and Analytics in Finance, Credit and Related Risks<br>\n",
        "This final project is done based on the data source from Kaggle as indicated below.<br>\n",
        "Dataset source: https://www.kaggle.com/datasets/dhanushnarayananr/credit-card-fraud"
      ],
      "metadata": {
        "id": "FjrzddJB5Kw1"
      }
    },
    {
      "cell_type": "markdown",
      "source": [
        "## Import Packages"
      ],
      "metadata": {
        "id": "B-eAJs2R6lH6"
      }
    },
    {
      "cell_type": "code",
      "source": [
        "!pip install missingno"
      ],
      "metadata": {
        "id": "a3UZrrZj9WwD",
        "colab": {
          "base_uri": "https://localhost:8080/"
        },
        "outputId": "b60a5d3a-6a22-4697-f210-487eefb20dd7"
      },
      "execution_count": null,
      "outputs": [
        {
          "output_type": "stream",
          "name": "stdout",
          "text": [
            "Looking in indexes: https://pypi.org/simple, https://us-python.pkg.dev/colab-wheels/public/simple/\n",
            "Requirement already satisfied: missingno in /usr/local/lib/python3.7/dist-packages (0.5.1)\n",
            "Requirement already satisfied: numpy in /usr/local/lib/python3.7/dist-packages (from missingno) (1.21.6)\n",
            "Requirement already satisfied: seaborn in /usr/local/lib/python3.7/dist-packages (from missingno) (0.11.2)\n",
            "Requirement already satisfied: matplotlib in /usr/local/lib/python3.7/dist-packages (from missingno) (3.2.2)\n",
            "Requirement already satisfied: scipy in /usr/local/lib/python3.7/dist-packages (from missingno) (1.4.1)\n",
            "Requirement already satisfied: kiwisolver>=1.0.1 in /usr/local/lib/python3.7/dist-packages (from matplotlib->missingno) (1.4.3)\n",
            "Requirement already satisfied: python-dateutil>=2.1 in /usr/local/lib/python3.7/dist-packages (from matplotlib->missingno) (2.8.2)\n",
            "Requirement already satisfied: cycler>=0.10 in /usr/local/lib/python3.7/dist-packages (from matplotlib->missingno) (0.11.0)\n",
            "Requirement already satisfied: pyparsing!=2.0.4,!=2.1.2,!=2.1.6,>=2.0.1 in /usr/local/lib/python3.7/dist-packages (from matplotlib->missingno) (3.0.9)\n",
            "Requirement already satisfied: typing-extensions in /usr/local/lib/python3.7/dist-packages (from kiwisolver>=1.0.1->matplotlib->missingno) (4.1.1)\n",
            "Requirement already satisfied: six>=1.5 in /usr/local/lib/python3.7/dist-packages (from python-dateutil>=2.1->matplotlib->missingno) (1.15.0)\n",
            "Requirement already satisfied: pandas>=0.23 in /usr/local/lib/python3.7/dist-packages (from seaborn->missingno) (1.3.5)\n",
            "Requirement already satisfied: pytz>=2017.3 in /usr/local/lib/python3.7/dist-packages (from pandas>=0.23->seaborn->missingno) (2022.1)\n"
          ]
        }
      ]
    },
    {
      "cell_type": "code",
      "source": [
        "import pandas as pd\n",
        "import seaborn as sns\n",
        "import numpy as np\n",
        "import missingno as msno\n",
        "import matplotlib.pyplot as plt\n",
        "from scipy.stats import skew\n",
        "from scipy.stats import kurtosis\n",
        "from sklearn.preprocessing import PowerTransformer\n",
        "from sklearn.model_selection import train_test_split\n",
        "from sklearn.linear_model import LogisticRegression\n",
        "from sklearn.metrics import classification_report, roc_auc_score, \\\n",
        "accuracy_score, precision_score, recall_score, confusion_matrix\n",
        "from sklearn.ensemble import RandomForestClassifier\n",
        "from sklearn.tree import DecisionTreeClassifier\n",
        "import xgboost as xgb\n",
        "from keras.models import Sequential\n",
        "from keras.layers import Dense, Activation\n",
        "from keras.callbacks import EarlyStopping\n",
        "import itertools"
      ],
      "metadata": {
        "id": "HDOwaiGp5EMj"
      },
      "execution_count": null,
      "outputs": []
    },
    {
      "cell_type": "markdown",
      "source": [
        "## Import Datasets"
      ],
      "metadata": {
        "id": "0Ke-5Q_yUsSF"
      }
    },
    {
      "cell_type": "code",
      "source": [
        "!pip install -U -q PyDrive\n",
        "\n",
        "from pydrive.auth import GoogleAuth\n",
        "from pydrive.drive import GoogleDrive\n",
        "from google.colab import auth\n",
        "from oauth2client.client import GoogleCredentials\n",
        "\n",
        "# Authenticate and create the PyDrive client.\n",
        "auth.authenticate_user()\n",
        "gauth = GoogleAuth()\n",
        "gauth.credentials = GoogleCredentials.get_application_default()\n",
        "drive = GoogleDrive(gauth)"
      ],
      "metadata": {
        "id": "Ej3rL3Ms5ER9"
      },
      "execution_count": null,
      "outputs": []
    },
    {
      "cell_type": "code",
      "source": [
        "# Google link for csv dataset\n",
        "link = 'https://drive.google.com/file/d/1CCn7lVB2PyDHoli413B2Gmlu973M15jF/view?usp=sharing'\n",
        "\n",
        "# Names to be used for dataframes\n",
        "file_name = 'card_transdata'"
      ],
      "metadata": {
        "id": "-B0309915EUz"
      },
      "execution_count": null,
      "outputs": []
    },
    {
      "cell_type": "code",
      "source": [
        "def read_data(link, file_name):\n",
        "  \"\"\"\n",
        "  Takes in a Google link to a csv dataset and file name of corresponding csv\n",
        "  Returns a pandas dataframe\n",
        "  \"\"\"\n",
        "  id = link.split(\"/\")[-2]\n",
        " \n",
        "  downloaded = drive.CreateFile({'id':id})\n",
        "  # Download into colab\n",
        "  downloaded.GetContentFile(file_name + '.csv') \n",
        "  df = pd.read_csv(file_name + '.csv')"
      ],
      "metadata": {
        "id": "lnXrxLLU5EXm"
      },
      "execution_count": null,
      "outputs": []
    },
    {
      "cell_type": "code",
      "source": [
        "read_data(link, file_name)"
      ],
      "metadata": {
        "id": "PtLcHDaG5Eab"
      },
      "execution_count": null,
      "outputs": []
    },
    {
      "cell_type": "code",
      "source": [
        "df = pd.read_csv(r'./{}.csv'.format(file_name))"
      ],
      "metadata": {
        "id": "RsT5GGCv5EdP"
      },
      "execution_count": null,
      "outputs": []
    },
    {
      "cell_type": "markdown",
      "source": [
        "## Exploratory Data Analysis"
      ],
      "metadata": {
        "id": "AYSozYsFUxqb"
      }
    },
    {
      "cell_type": "markdown",
      "source": [
        "Visualize the number of NaN values"
      ],
      "metadata": {
        "id": "QntNF53R9c1d"
      }
    },
    {
      "cell_type": "code",
      "source": [
        "print('No of NaN in each column:\\n', df.isna().sum())\n",
        "msno.matrix(df)\n",
        "\n",
        "# Save image\n",
        "plt.savefig('msno.png', bbox_inches='tight')"
      ],
      "metadata": {
        "id": "TbMYX3rz8nWC",
        "colab": {
          "base_uri": "https://localhost:8080/",
          "height": 962
        },
        "outputId": "a7a28193-3d0e-4cd6-cc1d-e6e5a70e40a5"
      },
      "execution_count": null,
      "outputs": [
        {
          "output_type": "stream",
          "name": "stdout",
          "text": [
            "No of NaN in each column:\n",
            " distance_from_home                0\n",
            "distance_from_last_transaction    0\n",
            "ratio_to_median_purchase_price    0\n",
            "repeat_retailer                   0\n",
            "used_chip                         0\n",
            "used_pin_number                   0\n",
            "online_order                      0\n",
            "fraud                             0\n",
            "dtype: int64\n"
          ]
        },
        {
          "output_type": "display_data",
          "data": {
            "text/plain": [
              "<Figure size 1800x720 with 2 Axes>"
            ],
            "image/png": "[encoded data removed]"
          },
          "metadata": {
            "needs_background": "light"
          }
        }
      ]
    },
    {
      "cell_type": "markdown",
      "source": [
        "There is no Null values present in the dataset thus data imputation is not required."
      ],
      "metadata": {
        "id": "KFaSTykRHNcz"
      }
    },
    {
      "cell_type": "code",
      "source": [
        "df.dtypes"
      ],
      "metadata": {
        "id": "2d0cQdJk8nYi",
        "colab": {
          "base_uri": "https://localhost:8080/"
        },
        "outputId": "8e632bf4-56fd-4285-e0e1-4ffd1619a790"
      },
      "execution_count": null,
      "outputs": [
        {
          "output_type": "execute_result",
          "data": {
            "text/plain": [
              "distance_from_home                float64\n",
              "distance_from_last_transaction    float64\n",
              "ratio_to_median_purchase_price    float64\n",
              "repeat_retailer                   float64\n",
              "used_chip                         float64\n",
              "used_pin_number                   float64\n",
              "online_order                      float64\n",
              "fraud                             float64\n",
              "dtype: object"
            ]
          },
          "metadata": {},
          "execution_count": 9
        }
      ]
    },
    {
      "cell_type": "markdown",
      "source": [
        "The data types of each column in the dataframe seems to be correct based on its description."
      ],
      "metadata": {
        "id": "Wa10cWgVHWyW"
      }
    },
    {
      "cell_type": "code",
      "source": [
        "df.duplicated().sum()"
      ],
      "metadata": {
        "colab": {
          "base_uri": "https://localhost:8080/"
        },
        "id": "nzgbJkSoyJno",
        "outputId": "cfb68b0d-0280-4551-b380-b027ecbd9011"
      },
      "execution_count": null,
      "outputs": [
        {
          "output_type": "execute_result",
          "data": {
            "text/plain": [
              "0"
            ]
          },
          "metadata": {},
          "execution_count": 10
        }
      ]
    },
    {
      "cell_type": "markdown",
      "source": [
        "There are no duplicated data found, thus data deduplication is not required."
      ],
      "metadata": {
        "id": "Wt8Toy49ycLA"
      }
    },
    {
      "cell_type": "code",
      "source": [
        "df.describe()"
      ],
      "metadata": {
        "id": "Aj2KUeA0DAQQ",
        "colab": {
          "base_uri": "https://localhost:8080/",
          "height": 300
        },
        "outputId": "4ca8b906-cf05-4387-88ac-60186a827bb6"
      },
      "execution_count": null,
      "outputs": [
        {
          "output_type": "execute_result",
          "data": {
            "text/plain": [
              "       distance_from_home  distance_from_last_transaction  \\\n",
              "count      1000000.000000                  1000000.000000   \n",
              "mean            26.628792                        5.036519   \n",
              "std             65.390784                       25.843093   \n",
              "min              0.004874                        0.000118   \n",
              "25%              3.878008                        0.296671   \n",
              "50%              9.967760                        0.998650   \n",
              "75%             25.743985                        3.355748   \n",
              "max          10632.723672                    11851.104565   \n",
              "\n",
              "       ratio_to_median_purchase_price  repeat_retailer       used_chip  \\\n",
              "count                  1000000.000000   1000000.000000  1000000.000000   \n",
              "mean                         1.824182         0.881536        0.350399   \n",
              "std                          2.799589         0.323157        0.477095   \n",
              "min                          0.004399         0.000000        0.000000   \n",
              "25%                          0.475673         1.000000        0.000000   \n",
              "50%                          0.997717         1.000000        0.000000   \n",
              "75%                          2.096370         1.000000        1.000000   \n",
              "max                        267.802942         1.000000        1.000000   \n",
              "\n",
              "       used_pin_number    online_order           fraud  \n",
              "count   1000000.000000  1000000.000000  1000000.000000  \n",
              "mean          0.100608        0.650552        0.087403  \n",
              "std           0.300809        0.476796        0.282425  \n",
              "min           0.000000        0.000000        0.000000  \n",
              "25%           0.000000        0.000000        0.000000  \n",
              "50%           0.000000        1.000000        0.000000  \n",
              "75%           0.000000        1.000000        0.000000  \n",
              "max           1.000000        1.000000        1.000000  "
            ],
            "text/html": [
              "\n",
              "  <div id=\"df-4d2d6171-88a7-49a9-97f6-efcfa8ed6eda\">\n",
              "    <div class=\"colab-df-container\">\n",
              "      <div>\n",
              "<style scoped>\n",
              "    .dataframe tbody tr th:only-of-type {\n",
              "        vertical-align: middle;\n",
              "    }\n",
              "\n",
              "    .dataframe tbody tr th {\n",
              "        vertical-align: top;\n",
              "    }\n",
              "\n",
              "    .dataframe thead th {\n",
              "        text-align: right;\n",
              "    }\n",
              "</style>\n",
              "<table border=\"1\" class=\"dataframe\">\n",
              "  <thead>\n",
              "    <tr style=\"text-align: right;\">\n",
              "      <th></th>\n",
              "      <th>distance_from_home</th>\n",
              "      <th>distance_from_last_transaction</th>\n",
              "      <th>ratio_to_median_purchase_price</th>\n",
              "      <th>repeat_retailer</th>\n",
              "      <th>used_chip</th>\n",
              "      <th>used_pin_number</th>\n",
              "      <th>online_order</th>\n",
              "      <th>fraud</th>\n",
              "    </tr>\n",
              "  </thead>\n",
              "  <tbody>\n",
              "    <tr>\n",
              "      <th>count</th>\n",
              "      <td>1000000.000000</td>\n",
              "      <td>1000000.000000</td>\n",
              "      <td>1000000.000000</td>\n",
              "      <td>1000000.000000</td>\n",
              "      <td>1000000.000000</td>\n",
              "      <td>1000000.000000</td>\n",
              "      <td>1000000.000000</td>\n",
              "      <td>1000000.000000</td>\n",
              "    </tr>\n",
              "    <tr>\n",
              "      <th>mean</th>\n",
              "      <td>26.628792</td>\n",
              "      <td>5.036519</td>\n",
              "      <td>1.824182</td>\n",
              "      <td>0.881536</td>\n",
              "      <td>0.350399</td>\n",
              "      <td>0.100608</td>\n",
              "      <td>0.650552</td>\n",
              "      <td>0.087403</td>\n",
              "    </tr>\n",
              "    <tr>\n",
              "      <th>std</th>\n",
              "      <td>65.390784</td>\n",
              "      <td>25.843093</td>\n",
              "      <td>2.799589</td>\n",
              "      <td>0.323157</td>\n",
              "      <td>0.477095</td>\n",
              "      <td>0.300809</td>\n",
              "      <td>0.476796</td>\n",
              "      <td>0.282425</td>\n",
              "    </tr>\n",
              "    <tr>\n",
              "      <th>min</th>\n",
              "      <td>0.004874</td>\n",
              "      <td>0.000118</td>\n",
              "      <td>0.004399</td>\n",
              "      <td>0.000000</td>\n",
              "      <td>0.000000</td>\n",
              "      <td>0.000000</td>\n",
              "      <td>0.000000</td>\n",
              "      <td>0.000000</td>\n",
              "    </tr>\n",
              "    <tr>\n",
              "      <th>25%</th>\n",
              "      <td>3.878008</td>\n",
              "      <td>0.296671</td>\n",
              "      <td>0.475673</td>\n",
              "      <td>1.000000</td>\n",
              "      <td>0.000000</td>\n",
              "      <td>0.000000</td>\n",
              "      <td>0.000000</td>\n",
              "      <td>0.000000</td>\n",
              "    </tr>\n",
              "    <tr>\n",
              "      <th>50%</th>\n",
              "      <td>9.967760</td>\n",
              "      <td>0.998650</td>\n",
              "      <td>0.997717</td>\n",
              "      <td>1.000000</td>\n",
              "      <td>0.000000</td>\n",
              "      <td>0.000000</td>\n",
              "      <td>1.000000</td>\n",
              "      <td>0.000000</td>\n",
              "    </tr>\n",
              "    <tr>\n",
              "      <th>75%</th>\n",
              "      <td>25.743985</td>\n",
              "      <td>3.355748</td>\n",
              "      <td>2.096370</td>\n",
              "      <td>1.000000</td>\n",
              "      <td>1.000000</td>\n",
              "      <td>0.000000</td>\n",
              "      <td>1.000000</td>\n",
              "      <td>0.000000</td>\n",
              "    </tr>\n",
              "    <tr>\n",
              "      <th>max</th>\n",
              "      <td>10632.723672</td>\n",
              "      <td>11851.104565</td>\n",
              "      <td>267.802942</td>\n",
              "      <td>1.000000</td>\n",
              "      <td>1.000000</td>\n",
              "      <td>1.000000</td>\n",
              "      <td>1.000000</td>\n",
              "      <td>1.000000</td>\n",
              "    </tr>\n",
              "  </tbody>\n",
              "</table>\n",
              "</div>\n",
              "      <button class=\"colab-df-convert\" onclick=\"convertToInteractive('df-4d2d6171-88a7-49a9-97f6-efcfa8ed6eda')\"\n",
              "              title=\"Convert this dataframe to an interactive table.\"\n",
              "              style=\"display:none;\">\n",
              "        \n",
              "  <svg xmlns=\"http://www.w3.org/2000/svg\" height=\"24px\"viewBox=\"0 0 24 24\"\n",
              "       width=\"24px\">\n",
              "    <path d=\"M0 0h24v24H0V0z\" fill=\"none\"/>\n",
              "    <path d=\"M18.56 5.44l.94 2.06.94-2.06 2.06-.94-2.06-.94-.94-2.06-.94 2.06-2.06.94zm-11 1L8.5 8.5l.94-2.06 2.06-.94-2.06-.94L8.5 2.5l-.94 2.06-2.06.94zm10 10l.94 2.06.94-2.06 2.06-.94-2.06-.94-.94-2.06-.94 2.06-2.06.94z\"/><path d=\"M17.41 7.96l-1.37-1.37c-.4-.4-.92-.59-1.43-.59-.52 0-1.04.2-1.43.59L10.3 9.45l-7.72 7.72c-.78.78-.78 2.05 0 2.83L4 21.41c.39.39.9.59 1.41.59.51 0 1.02-.2 1.41-.59l7.78-7.78 2.81-2.81c.8-.78.8-2.07 0-2.86zM5.41 20L4 18.59l7.72-7.72 1.47 1.35L5.41 20z\"/>\n",
              "  </svg>\n",
              "      </button>\n",
              "      \n",
              "  <style>\n",
              "    .colab-df-container {\n",
              "      display:flex;\n",
              "      flex-wrap:wrap;\n",
              "      gap: 12px;\n",
              "    }\n",
              "\n",
              "    .colab-df-convert {\n",
              "      background-color: #E8F0FE;\n",
              "      border: none;\n",
              "      border-radius: 50%;\n",
              "      cursor: pointer;\n",
              "      display: none;\n",
              "      fill: #1967D2;\n",
              "      height: 32px;\n",
              "      padding: 0 0 0 0;\n",
              "      width: 32px;\n",
              "    }\n",
              "\n",
              "    .colab-df-convert:hover {\n",
              "      background-color: #E2EBFA;\n",
              "      box-shadow: 0px 1px 2px rgba(60, 64, 67, 0.3), 0px 1px 3px 1px rgba(60, 64, 67, 0.15);\n",
              "      fill: #174EA6;\n",
              "    }\n",
              "\n",
              "    [theme=dark] .colab-df-convert {\n",
              "      background-color: #3B4455;\n",
              "      fill: #D2E3FC;\n",
              "    }\n",
              "\n",
              "    [theme=dark] .colab-df-convert:hover {\n",
              "      background-color: #434B5C;\n",
              "      box-shadow: 0px 1px 3px 1px rgba(0, 0, 0, 0.15);\n",
              "      filter: drop-shadow(0px 1px 2px rgba(0, 0, 0, 0.3));\n",
              "      fill: #FFFFFF;\n",
              "    }\n",
              "  </style>\n",
              "\n",
              "      <script>\n",
              "        const buttonEl =\n",
              "          document.querySelector('#df-4d2d6171-88a7-49a9-97f6-efcfa8ed6eda button.colab-df-convert');\n",
              "        buttonEl.style.display =\n",
              "          google.colab.kernel.accessAllowed ? 'block' : 'none';\n",
              "\n",
              "        async function convertToInteractive(key) {\n",
              "          const element = document.querySelector('#df-4d2d6171-88a7-49a9-97f6-efcfa8ed6eda');\n",
              "          const dataTable =\n",
              "            await google.colab.kernel.invokeFunction('convertToInteractive',\n",
              "                                                     [key], {});\n",
              "          if (!dataTable) return;\n",
              "\n",
              "          const docLinkHtml = 'Like what you see? Visit the ' +\n",
              "            '<a target=\"_blank\" href=https://colab.research.google.com/notebooks/data_table.ipynb>data table notebook</a>'\n",
              "            + ' to learn more about interactive tables.';\n",
              "          element.innerHTML = '';\n",
              "          dataTable['output_type'] = 'display_data';\n",
              "          await google.colab.output.renderOutput(dataTable, element);\n",
              "          const docLink = document.createElement('div');\n",
              "          docLink.innerHTML = docLinkHtml;\n",
              "          element.appendChild(docLink);\n",
              "        }\n",
              "      </script>\n",
              "    </div>\n",
              "  </div>\n",
              "  "
            ]
          },
          "metadata": {},
          "execution_count": 11
        }
      ]
    },
    {
      "cell_type": "code",
      "source": [
        "# # Save Summary statistics as png\n",
        "# from pandas.plotting import table \n",
        "# ax = plt.subplot(111, frame_on=False) # no visible frame\n",
        "# ax.xaxis.set_visible(False)  # hide the x axis\n",
        "# ax.yaxis.set_visible(False)  # hide the y axis\n",
        "# table(ax, df.describe())  # where df is your data frame\n",
        "# plt.savefig('summarystats.png', bbox_inches='tight')"
      ],
      "metadata": {
        "id": "S5qWb9FwVzXf"
      },
      "execution_count": null,
      "outputs": []
    },
    {
      "cell_type": "markdown",
      "source": [
        "From the summary statistics, it looks like distance_from_home, distance_from_last_transaction and ratio_to_medium_purchase_price is highly skewed. We will verify this in the next section by checking the skewness values of the data."
      ],
      "metadata": {
        "id": "kRrG1X9UHvZv"
      }
    },
    {
      "cell_type": "code",
      "source": [
        "sns.countplot(data = df, x = 'fraud')"
      ],
      "metadata": {
        "id": "pJ3lIoe6Qz3p",
        "colab": {
          "base_uri": "https://localhost:8080/",
          "height": 296
        },
        "outputId": "cd7d51bc-5541-44cd-9679-b73630a958ef"
      },
      "execution_count": null,
      "outputs": [
        {
          "output_type": "execute_result",
          "data": {
            "text/plain": [
              "<matplotlib.axes._subplots.AxesSubplot at 0x7ff9082c7d90>"
            ]
          },
          "metadata": {},
          "execution_count": 13
        },
        {
          "output_type": "display_data",
          "data": {
            "text/plain": [
              "<Figure size 432x288 with 1 Axes>"
            ],
            "image/png": "[encoded data removed]"
          },
          "metadata": {
            "needs_background": "light"
          }
        }
      ]
    },
    {
      "cell_type": "markdown",
      "source": [
        "From the summary statistic, it looks like the dataset is imbalanced with much lesser fraud transactions(8.7%). Therefore, it is likely that techniques such as SMOTE will be required."
      ],
      "metadata": {
        "id": "5pftunFPQ4SC"
      }
    },
    {
      "cell_type": "code",
      "source": [
        "sns.heatmap(df.corr())\n",
        "plt.savefig('correlation_plot.png', bbox_inches='tight')"
      ],
      "metadata": {
        "id": "GPo-LNhbSCFF",
        "colab": {
          "base_uri": "https://localhost:8080/",
          "height": 420
        },
        "outputId": "07cc3cdf-1d19-42cc-91bb-1610e9c3ca39"
      },
      "execution_count": null,
      "outputs": [
        {
          "output_type": "display_data",
          "data": {
            "text/plain": [
              "<Figure size 432x288 with 2 Axes>"
            ],
            "image/png": "[encoded data removed]"
          },
          "metadata": {
            "needs_background": "light"
          }
        }
      ]
    },
    {
      "cell_type": "markdown",
      "source": [
        "It looks like ratio_to_median_purchase_price is the only feature with the strongest correlation to fraud. There are no features which exhibit collinearity. Here we also do feature selection, and we drop the 2 features with lowest correlation: used_chip and repeat_retailer."
      ],
      "metadata": {
        "id": "s7m3-iOHS-SD"
      }
    },
    {
      "cell_type": "code",
      "source": [
        "cols = ['distance_from_home', 'distance_from_last_transaction', 'ratio_to_median_purchase_price']\n",
        "\n",
        "for col in cols:\n",
        "  print('The skewness for {} is:'.format(col), skew(df[col].values))\n",
        "\n",
        "for col in cols:\n",
        "  print('The kurtosis for {} is:'.format(col), kurtosis(df[col].values))"
      ],
      "metadata": {
        "id": "BKCsAatYEA9C",
        "colab": {
          "base_uri": "https://localhost:8080/"
        },
        "outputId": "fe70129e-e52d-434f-886b-46db1400e55f"
      },
      "execution_count": null,
      "outputs": [
        {
          "output_type": "stream",
          "name": "stdout",
          "text": [
            "The skewness for distance_from_home is: 20.23970273570892\n",
            "The skewness for distance_from_last_transaction is: 125.92103696581798\n",
            "The skewness for ratio_to_median_purchase_price is: 8.915001725966595\n",
            "The kurtosis for distance_from_home is: 1471.6082898457348\n",
            "The kurtosis for distance_from_last_transaction is: 46979.03682617058\n",
            "The kurtosis for ratio_to_median_purchase_price is: 289.5018534722941\n"
          ]
        }
      ]
    },
    {
      "cell_type": "markdown",
      "source": [
        "We can confirm that the 3 labels above are highly skewed since for normally distributed data, the skewness should be about zero."
      ],
      "metadata": {
        "id": "t3fqa7VFFKQ1"
      }
    },
    {
      "cell_type": "markdown",
      "source": [
        "Visualize the distribution of Distance from home(on a log scale)"
      ],
      "metadata": {
        "id": "UyxKFY7k_yfK"
      }
    },
    {
      "cell_type": "code",
      "source": [
        "sns.displot(data = df, x = 'distance_from_home', log_scale = True)"
      ],
      "metadata": {
        "id": "puEK9iEm8nbM",
        "colab": {
          "base_uri": "https://localhost:8080/",
          "height": 386
        },
        "outputId": "6407f80f-4e17-40ad-cb1e-dcd8fb5d67a7"
      },
      "execution_count": null,
      "outputs": [
        {
          "output_type": "execute_result",
          "data": {
            "text/plain": [
              "<seaborn.axisgrid.FacetGrid at 0x7ff9082a6450>"
            ]
          },
          "metadata": {},
          "execution_count": 16
        },
        {
          "output_type": "display_data",
          "data": {
            "text/plain": [
              "<Figure size 360x360 with 1 Axes>"
            ],
            "image/png": "[encoded data removed]"
          },
          "metadata": {
            "needs_background": "light"
          }
        }
      ]
    },
    {
      "cell_type": "code",
      "source": [
        "sns.displot(data=df, x='distance_from_last_transaction', log_scale=True)"
      ],
      "metadata": {
        "id": "WNOt1A9CFpot",
        "colab": {
          "base_uri": "https://localhost:8080/",
          "height": 386
        },
        "outputId": "96bbc60b-6d21-4ef0-ba1a-9cfb1f4d9304"
      },
      "execution_count": null,
      "outputs": [
        {
          "output_type": "execute_result",
          "data": {
            "text/plain": [
              "<seaborn.axisgrid.FacetGrid at 0x7ff907cf4e50>"
            ]
          },
          "metadata": {},
          "execution_count": 17
        },
        {
          "output_type": "display_data",
          "data": {
            "text/plain": [
              "<Figure size 360x360 with 1 Axes>"
            ],
            "image/png": "[encoded data removed]"
          },
          "metadata": {
            "needs_background": "light"
          }
        }
      ]
    },
    {
      "cell_type": "code",
      "source": [
        "sns.displot(data=df, x='ratio_to_median_purchase_price', log_scale = True)"
      ],
      "metadata": {
        "id": "ZMApvj2sFv_x",
        "colab": {
          "base_uri": "https://localhost:8080/",
          "height": 386
        },
        "outputId": "ca51d04b-629f-4415-8663-c05f355f2121"
      },
      "execution_count": null,
      "outputs": [
        {
          "output_type": "execute_result",
          "data": {
            "text/plain": [
              "<seaborn.axisgrid.FacetGrid at 0x7ff9081a7dd0>"
            ]
          },
          "metadata": {},
          "execution_count": 18
        },
        {
          "output_type": "display_data",
          "data": {
            "text/plain": [
              "<Figure size 360x360 with 1 Axes>"
            ],
            "image/png": "[encoded data removed]"
          },
          "metadata": {
            "needs_background": "light"
          }
        }
      ]
    },
    {
      "cell_type": "markdown",
      "source": [
        "The distribution is more Gaussian-like after using a logarithmic scale on the x-axis. We will do a logarithm transformation for preprocessing."
      ],
      "metadata": {
        "id": "3yq4PtE8A8Ru"
      }
    },
    {
      "cell_type": "code",
      "source": [
        "sns.countplot(data=df, x='repeat_retailer', hue='fraud')"
      ],
      "metadata": {
        "id": "DvMHBo_4QEg5",
        "colab": {
          "base_uri": "https://localhost:8080/",
          "height": 297
        },
        "outputId": "872a10ac-960e-42ff-b1bf-994d240a3f46"
      },
      "execution_count": null,
      "outputs": [
        {
          "output_type": "execute_result",
          "data": {
            "text/plain": [
              "<matplotlib.axes._subplots.AxesSubplot at 0x7ff907f15d50>"
            ]
          },
          "metadata": {},
          "execution_count": 19
        },
        {
          "output_type": "display_data",
          "data": {
            "text/plain": [
              "<Figure size 432x288 with 1 Axes>"
            ],
            "image/png": "[encoded data removed]"
          },
          "metadata": {
            "needs_background": "light"
          }
        }
      ]
    },
    {
      "cell_type": "code",
      "source": [
        "# # Make a nice plot for report\n",
        "# x,y = 'repeat_retailer', 'fraud'\n",
        "\n",
        "# df1 = df.groupby(x)[y].value_counts(normalize=True)\n",
        "# df1 = df1.mul(100)\n",
        "# df1 = df1.rename('Percentage').reset_index()\n",
        "\n",
        "# g = sns.catplot(x=x,y='Percentage',hue=y,kind='bar',data=df1)\n",
        "# g.ax.set_ylim(0,100)\n",
        "\n",
        "# for p in g.ax.patches:\n",
        "#     txt = str(p.get_height().round(2)) + '%'\n",
        "#     txt_x = p.get_x() \n",
        "#     txt_y = p.get_height()\n",
        "#     g.ax.text(txt_x,txt_y,txt)\n",
        "\n",
        "# plt.savefig('repeat_retailer.png')"
      ],
      "metadata": {
        "id": "PKWGf5T3btNU"
      },
      "execution_count": null,
      "outputs": []
    },
    {
      "cell_type": "code",
      "source": [
        "sns.countplot(data=df, x='used_chip', hue='fraud')"
      ],
      "metadata": {
        "id": "EbJBDU7CQe8e",
        "colab": {
          "base_uri": "https://localhost:8080/",
          "height": 297
        },
        "outputId": "05db5d07-2d78-4403-afeb-29276ba16c25"
      },
      "execution_count": null,
      "outputs": [
        {
          "output_type": "execute_result",
          "data": {
            "text/plain": [
              "<matplotlib.axes._subplots.AxesSubplot at 0x7ff907bf8b90>"
            ]
          },
          "metadata": {},
          "execution_count": 21
        },
        {
          "output_type": "display_data",
          "data": {
            "text/plain": [
              "<Figure size 432x288 with 1 Axes>"
            ],
            "image/png": "[encoded data removed]"
          },
          "metadata": {
            "needs_background": "light"
          }
        }
      ]
    },
    {
      "cell_type": "code",
      "source": [
        "# # Make a nice plot for report\n",
        "# x,y = 'used_chip', 'fraud'\n",
        "\n",
        "# df1 = df.groupby(x)[y].value_counts(normalize=True)\n",
        "# df1 = df1.mul(100)\n",
        "# df1 = df1.rename('Percentage').reset_index()\n",
        "\n",
        "# g = sns.catplot(x=x,y='Percentage',hue=y,kind='bar',data=df1)\n",
        "# g.ax.set_ylim(0,100)\n",
        "\n",
        "# for p in g.ax.patches:\n",
        "#     txt = str(p.get_height().round(2)) + '%'\n",
        "#     txt_x = p.get_x() \n",
        "#     txt_y = p.get_height()\n",
        "#     g.ax.text(txt_x,txt_y,txt)\n",
        "\n",
        "# plt.savefig('used_chip.png')"
      ],
      "metadata": {
        "id": "ZHmK_Z64PesJ"
      },
      "execution_count": null,
      "outputs": []
    },
    {
      "cell_type": "code",
      "source": [
        "sns.countplot(data=df, x='used_pin_number', hue='fraud')"
      ],
      "metadata": {
        "id": "JWauvOOtQe_T",
        "colab": {
          "base_uri": "https://localhost:8080/",
          "height": 297
        },
        "outputId": "5b9e48a5-7ad9-4bd2-8030-8768d9594469"
      },
      "execution_count": null,
      "outputs": [
        {
          "output_type": "execute_result",
          "data": {
            "text/plain": [
              "<matplotlib.axes._subplots.AxesSubplot at 0x7ff907bc8ad0>"
            ]
          },
          "metadata": {},
          "execution_count": 23
        },
        {
          "output_type": "display_data",
          "data": {
            "text/plain": [
              "<Figure size 432x288 with 1 Axes>"
            ],
            "image/png": "[encoded data removed]"
          },
          "metadata": {
            "needs_background": "light"
          }
        }
      ]
    },
    {
      "cell_type": "code",
      "source": [
        "# # Make a nice plot for report\n",
        "# x,y = 'used_pin_number', 'fraud'\n",
        "\n",
        "# df1 = df.groupby(x)[y].value_counts(normalize=True)\n",
        "# df1 = df1.mul(100)\n",
        "# df1 = df1.rename('Percentage').reset_index()\n",
        "\n",
        "# g = sns.catplot(x=x,y='Percentage',hue=y,kind='bar',data=df1)\n",
        "# g.ax.set_ylim(0,100)\n",
        "\n",
        "# for p in g.ax.patches:\n",
        "#     txt = str(p.get_height().round(2)) + '%'\n",
        "#     txt_x = p.get_x() \n",
        "#     txt_y = p.get_height()\n",
        "#     g.ax.text(txt_x,txt_y,txt)\n",
        "\n",
        "# plt.savefig('used_pin_number.png')"
      ],
      "metadata": {
        "id": "-RSHJSe3abS3"
      },
      "execution_count": null,
      "outputs": []
    },
    {
      "cell_type": "code",
      "source": [
        "sns.countplot(data = df, x = 'online_order', hue='fraud')"
      ],
      "metadata": {
        "id": "T3cK6qG1QcJv",
        "colab": {
          "base_uri": "https://localhost:8080/",
          "height": 297
        },
        "outputId": "52cf28b5-a25b-4117-9c82-1ff7ae669d70"
      },
      "execution_count": null,
      "outputs": [
        {
          "output_type": "execute_result",
          "data": {
            "text/plain": [
              "<matplotlib.axes._subplots.AxesSubplot at 0x7ff907572390>"
            ]
          },
          "metadata": {},
          "execution_count": 25
        },
        {
          "output_type": "display_data",
          "data": {
            "text/plain": [
              "<Figure size 432x288 with 1 Axes>"
            ],
            "image/png": "[encoded data removed]"
          },
          "metadata": {
            "needs_background": "light"
          }
        }
      ]
    },
    {
      "cell_type": "code",
      "source": [
        "# # Make a nice plot for report\n",
        "# x,y = 'online_order', 'fraud'\n",
        "\n",
        "# df1 = df.groupby(x)[y].value_counts(normalize=True)\n",
        "# df1 = df1.mul(100)\n",
        "# df1 = df1.rename('Percentage').reset_index()\n",
        "\n",
        "# g = sns.catplot(x=x,y='Percentage',hue=y,kind='bar',data=df1)\n",
        "# g.ax.set_ylim(0,100)\n",
        "\n",
        "# for p in g.ax.patches:\n",
        "#     txt = str(p.get_height().round(2)) + '%'\n",
        "#     txt_x = p.get_x() \n",
        "#     txt_y = p.get_height()\n",
        "#     g.ax.text(txt_x,txt_y,txt)\n",
        "\n",
        "# plt.savefig('online_order.png')"
      ],
      "metadata": {
        "id": "VJDlg7T7bUIO"
      },
      "execution_count": null,
      "outputs": []
    },
    {
      "cell_type": "markdown",
      "source": [
        "## Data Preprocessing"
      ],
      "metadata": {
        "id": "jgBo58q_htwe"
      }
    },
    {
      "cell_type": "code",
      "source": [
        "def preprocessing(df):\n",
        "  \n",
        "  df_copy = df.copy()\n",
        "\n",
        "  cols = ['distance_from_home', 'distance_from_last_transaction', 'ratio_to_median_purchase_price']\n",
        "\n",
        "  for col in cols:\n",
        "    pt = PowerTransformer()\n",
        "    pt.fit(df[[col]])\n",
        "    df_copy[col] = pt.transform(df[[col]])\n",
        "  return df_copy"
      ],
      "metadata": {
        "id": "ND1ACIQqLYDK"
      },
      "execution_count": null,
      "outputs": []
    },
    {
      "cell_type": "code",
      "source": [
        "df_preproc = preprocessing(df)"
      ],
      "metadata": {
        "id": "a55ZKXFnMVrR"
      },
      "execution_count": null,
      "outputs": []
    },
    {
      "cell_type": "code",
      "source": [
        "X = df.drop(labels = ['fraud', 'used_chip', 'repeat_retailer'], axis = 1)\n",
        "y = df['fraud']\n",
        "X_train, X_test, y_train, y_test = train_test_split(X, y, random_state = 7)"
      ],
      "metadata": {
        "id": "w0QYXbWrR3ww"
      },
      "execution_count": null,
      "outputs": []
    },
    {
      "cell_type": "code",
      "source": [
        "X_pp = df_preproc.drop(labels = ['fraud', 'used_chip', 'repeat_retailer'], axis = 1)\n",
        "y_pp = df_preproc['fraud']\n",
        "X_pptrain, X_pptest, y_pptrain, y_pptest = train_test_split(X_pp, y_pp, random_state = 7)"
      ],
      "metadata": {
        "id": "0IRuVdmY1SzH"
      },
      "execution_count": null,
      "outputs": []
    },
    {
      "cell_type": "markdown",
      "source": [
        "## Model Training"
      ],
      "metadata": {
        "id": "i5GFfHOsU7iR"
      }
    },
    {
      "cell_type": "code",
      "source": [
        "# Metrics used for comparison and append to table\n",
        "def append_metrics_to_table(table, model_name, y_pred, y_test):\n",
        "  table_to_concat = pd.DataFrame({'Model': model_name,\n",
        "                                  'Accuracy': accuracy_score(y_pred, y_test),\n",
        "                                  'AUROC': roc_auc_score(y_pred, y_test),\n",
        "                                  'Precision': precision_score(y_pred, y_test),\n",
        "                                  'Recall': recall_score(y_pred, y_test)\n",
        "                                }, index=[0])\n",
        "  return pd.concat([table, table_to_concat], ignore_index = True)"
      ],
      "metadata": {
        "id": "47mcDO_AhWSg"
      },
      "execution_count": null,
      "outputs": []
    },
    {
      "cell_type": "code",
      "source": [
        "def plot_confusion_matrix(y_true, y_pred, title='', labels=[0,1]):\n",
        "    cm = confusion_matrix(y_true, y_pred)\n",
        "    fig = plt.figure()\n",
        "    ax = fig.add_subplot(111)\n",
        "    cax = ax.matshow(cm)\n",
        "    plt.title(title)\n",
        "    fig.colorbar(cax)\n",
        "    ax.set_xticklabels([''] + labels)\n",
        "    ax.set_yticklabels([''] + labels)\n",
        "    plt.xlabel('Predicted')\n",
        "    plt.ylabel('True')\n",
        "    fmt = 'd'\n",
        "    thresh = cm.max() / 2.\n",
        "    for i, j in itertools.product(range(cm.shape[0]), range(cm.shape[1])):\n",
        "          plt.text(j, i, format(cm[i, j], fmt),\n",
        "                  horizontalalignment=\"center\",\n",
        "                  color=\"black\" if cm[i, j] > thresh else \"white\")\n",
        "    plt.show()"
      ],
      "metadata": {
        "id": "noj7fiM1oRCO"
      },
      "execution_count": null,
      "outputs": []
    },
    {
      "cell_type": "code",
      "source": [
        "# Initialize the table for comparison\n",
        "column_names = ['Model', 'Accuracy', 'AUROC', 'Precision', 'Recall']\n",
        "table = pd.DataFrame(columns = column_names)"
      ],
      "metadata": {
        "id": "0E3eDtjnhWVl"
      },
      "execution_count": null,
      "outputs": []
    },
    {
      "cell_type": "markdown",
      "source": [
        "### Guessing all transactions as non-fraud"
      ],
      "metadata": {
        "id": "TdO2BdDAV7DI"
      }
    },
    {
      "cell_type": "code",
      "source": [
        "# Predict every transaction as non-fraud\n",
        "y_pred = pd.Series(data = np.zeros(len(y_test)))\n",
        "print('The accuracy score by just predicting every transaction as non-fraud is {}'\\\n",
        "      .format(accuracy_score(y_pred, y_test)))"
      ],
      "metadata": {
        "id": "esFRq_FUWNBh",
        "colab": {
          "base_uri": "https://localhost:8080/"
        },
        "outputId": "319e9ffc-1a0f-4389-b153-dc7c045ddcfc"
      },
      "execution_count": null,
      "outputs": [
        {
          "output_type": "stream",
          "name": "stdout",
          "text": [
            "The accuracy score by just predicting every transaction as non-fraud is 0.913048\n"
          ]
        }
      ]
    },
    {
      "cell_type": "markdown",
      "source": [
        "### Log Reg for baseline"
      ],
      "metadata": {
        "id": "DmOdxai0UR-s"
      }
    },
    {
      "cell_type": "code",
      "source": [
        "lr = LogisticRegression()\n",
        "lr.fit(X_train, y_train)\n",
        "y_pred = lr.predict(X_test)"
      ],
      "metadata": {
        "id": "vjCgzEBUR3zx"
      },
      "execution_count": null,
      "outputs": []
    },
    {
      "cell_type": "code",
      "source": [
        "# Append metrics to table\n",
        "table = append_metrics_to_table(table, 'Logreg without preproc', y_pred, y_test)"
      ],
      "metadata": {
        "id": "rBArHu48ipct"
      },
      "execution_count": null,
      "outputs": []
    },
    {
      "cell_type": "code",
      "source": [
        "plot_confusion_matrix(y_test, y_pred, title='Confusion Matrix for LogReg(no preproc)', labels=[0,1])"
      ],
      "metadata": {
        "colab": {
          "base_uri": "https://localhost:8080/",
          "height": 289
        },
        "id": "39zx6AkBVH_S",
        "outputId": "4b91dab9-7ce4-42ef-dc0f-31bc5bd417a7"
      },
      "execution_count": null,
      "outputs": [
        {
          "output_type": "display_data",
          "data": {
            "text/plain": [
              "<Figure size 432x288 with 2 Axes>"
            ],
            "image/png": "[encoded data removed]"
          },
          "metadata": {
            "needs_background": "light"
          }
        }
      ]
    },
    {
      "cell_type": "markdown",
      "source": [
        "#### Logistic regression with preprocessing"
      ],
      "metadata": {
        "id": "Mv1O4fPM17M-"
      }
    },
    {
      "cell_type": "code",
      "source": [
        "lr = LogisticRegression()\n",
        "lr.fit(X_pptrain, y_pptrain)\n",
        "y_pred = lr.predict(X_pptest)"
      ],
      "metadata": {
        "id": "xu1CTEcq15a9"
      },
      "execution_count": null,
      "outputs": []
    },
    {
      "cell_type": "code",
      "source": [
        "# # Append metrics to table\n",
        "# table = append_metrics_to_table(table, 'Logreg with preprocessing', y_pred, y_test)"
      ],
      "metadata": {
        "id": "dGEgZwUm15a-"
      },
      "execution_count": null,
      "outputs": []
    },
    {
      "cell_type": "code",
      "source": [
        "plot_confusion_matrix(y_test, y_pred, title='Confusion Matrix for LogReg(with preprocessing)', labels=[0,1])"
      ],
      "metadata": {
        "colab": {
          "base_uri": "https://localhost:8080/",
          "height": 289
        },
        "outputId": "d377f2a4-b8ec-490e-e17e-a1ef1ac923bd",
        "id": "szT0vj0I15a-"
      },
      "execution_count": null,
      "outputs": [
        {
          "output_type": "display_data",
          "data": {
            "text/plain": [
              "<Figure size 432x288 with 2 Axes>"
            ],
            "image/png": "[encoded data removed]"
          },
          "metadata": {
            "needs_background": "light"
          }
        }
      ]
    },
    {
      "cell_type": "code",
      "source": [
        "table"
      ],
      "metadata": {
        "colab": {
          "base_uri": "https://localhost:8080/",
          "height": 81
        },
        "id": "2FTK8h5U7bLA",
        "outputId": "95142f41-6bfe-4132-b8a8-965b128dabc2"
      },
      "execution_count": null,
      "outputs": [
        {
          "output_type": "execute_result",
          "data": {
            "text/plain": [
              "                    Model  Accuracy     AUROC  Precision    Recall\n",
              "0  Logreg without preproc  0.956212  0.918922    0.57756  0.876807"
            ],
            "text/html": [
              "\n",
              "  <div id=\"df-178a493e-05b7-4c89-87bf-c8f08bfcbd97\">\n",
              "    <div class=\"colab-df-container\">\n",
              "      <div>\n",
              "<style scoped>\n",
              "    .dataframe tbody tr th:only-of-type {\n",
              "        vertical-align: middle;\n",
              "    }\n",
              "\n",
              "    .dataframe tbody tr th {\n",
              "        vertical-align: top;\n",
              "    }\n",
              "\n",
              "    .dataframe thead th {\n",
              "        text-align: right;\n",
              "    }\n",
              "</style>\n",
              "<table border=\"1\" class=\"dataframe\">\n",
              "  <thead>\n",
              "    <tr style=\"text-align: right;\">\n",
              "      <th></th>\n",
              "      <th>Model</th>\n",
              "      <th>Accuracy</th>\n",
              "      <th>AUROC</th>\n",
              "      <th>Precision</th>\n",
              "      <th>Recall</th>\n",
              "    </tr>\n",
              "  </thead>\n",
              "  <tbody>\n",
              "    <tr>\n",
              "      <th>0</th>\n",
              "      <td>Logreg without preproc</td>\n",
              "      <td>0.956212</td>\n",
              "      <td>0.918922</td>\n",
              "      <td>0.57756</td>\n",
              "      <td>0.876807</td>\n",
              "    </tr>\n",
              "  </tbody>\n",
              "</table>\n",
              "</div>\n",
              "      <button class=\"colab-df-convert\" onclick=\"convertToInteractive('df-178a493e-05b7-4c89-87bf-c8f08bfcbd97')\"\n",
              "              title=\"Convert this dataframe to an interactive table.\"\n",
              "              style=\"display:none;\">\n",
              "        \n",
              "  <svg xmlns=\"http://www.w3.org/2000/svg\" height=\"24px\"viewBox=\"0 0 24 24\"\n",
              "       width=\"24px\">\n",
              "    <path d=\"M0 0h24v24H0V0z\" fill=\"none\"/>\n",
              "    <path d=\"M18.56 5.44l.94 2.06.94-2.06 2.06-.94-2.06-.94-.94-2.06-.94 2.06-2.06.94zm-11 1L8.5 8.5l.94-2.06 2.06-.94-2.06-.94L8.5 2.5l-.94 2.06-2.06.94zm10 10l.94 2.06.94-2.06 2.06-.94-2.06-.94-.94-2.06-.94 2.06-2.06.94z\"/><path d=\"M17.41 7.96l-1.37-1.37c-.4-.4-.92-.59-1.43-.59-.52 0-1.04.2-1.43.59L10.3 9.45l-7.72 7.72c-.78.78-.78 2.05 0 2.83L4 21.41c.39.39.9.59 1.41.59.51 0 1.02-.2 1.41-.59l7.78-7.78 2.81-2.81c.8-.78.8-2.07 0-2.86zM5.41 20L4 18.59l7.72-7.72 1.47 1.35L5.41 20z\"/>\n",
              "  </svg>\n",
              "      </button>\n",
              "      \n",
              "  <style>\n",
              "    .colab-df-container {\n",
              "      display:flex;\n",
              "      flex-wrap:wrap;\n",
              "      gap: 12px;\n",
              "    }\n",
              "\n",
              "    .colab-df-convert {\n",
              "      background-color: #E8F0FE;\n",
              "      border: none;\n",
              "      border-radius: 50%;\n",
              "      cursor: pointer;\n",
              "      display: none;\n",
              "      fill: #1967D2;\n",
              "      height: 32px;\n",
              "      padding: 0 0 0 0;\n",
              "      width: 32px;\n",
              "    }\n",
              "\n",
              "    .colab-df-convert:hover {\n",
              "      background-color: #E2EBFA;\n",
              "      box-shadow: 0px 1px 2px rgba(60, 64, 67, 0.3), 0px 1px 3px 1px rgba(60, 64, 67, 0.15);\n",
              "      fill: #174EA6;\n",
              "    }\n",
              "\n",
              "    [theme=dark] .colab-df-convert {\n",
              "      background-color: #3B4455;\n",
              "      fill: #D2E3FC;\n",
              "    }\n",
              "\n",
              "    [theme=dark] .colab-df-convert:hover {\n",
              "      background-color: #434B5C;\n",
              "      box-shadow: 0px 1px 3px 1px rgba(0, 0, 0, 0.15);\n",
              "      filter: drop-shadow(0px 1px 2px rgba(0, 0, 0, 0.3));\n",
              "      fill: #FFFFFF;\n",
              "    }\n",
              "  </style>\n",
              "\n",
              "      <script>\n",
              "        const buttonEl =\n",
              "          document.querySelector('#df-178a493e-05b7-4c89-87bf-c8f08bfcbd97 button.colab-df-convert');\n",
              "        buttonEl.style.display =\n",
              "          google.colab.kernel.accessAllowed ? 'block' : 'none';\n",
              "\n",
              "        async function convertToInteractive(key) {\n",
              "          const element = document.querySelector('#df-178a493e-05b7-4c89-87bf-c8f08bfcbd97');\n",
              "          const dataTable =\n",
              "            await google.colab.kernel.invokeFunction('convertToInteractive',\n",
              "                                                     [key], {});\n",
              "          if (!dataTable) return;\n",
              "\n",
              "          const docLinkHtml = 'Like what you see? Visit the ' +\n",
              "            '<a target=\"_blank\" href=https://colab.research.google.com/notebooks/data_table.ipynb>data table notebook</a>'\n",
              "            + ' to learn more about interactive tables.';\n",
              "          element.innerHTML = '';\n",
              "          dataTable['output_type'] = 'display_data';\n",
              "          await google.colab.output.renderOutput(dataTable, element);\n",
              "          const docLink = document.createElement('div');\n",
              "          docLink.innerHTML = docLinkHtml;\n",
              "          element.appendChild(docLink);\n",
              "        }\n",
              "      </script>\n",
              "    </div>\n",
              "  </div>\n",
              "  "
            ]
          },
          "metadata": {},
          "execution_count": 41
        }
      ]
    },
    {
      "cell_type": "markdown",
      "source": [
        "It looks like preprocessing the numeric labels with Powertransformer to make it Gaussian does not help with the accuracy of prediction. Thus we will proceed with not using the preprocessed variables."
      ],
      "metadata": {
        "id": "F2Z8Bpq67aGc"
      }
    },
    {
      "cell_type": "markdown",
      "source": [
        "## Decision Tree"
      ],
      "metadata": {
        "id": "SXX70cW5oThv"
      }
    },
    {
      "cell_type": "code",
      "source": [
        "dt = DecisionTreeClassifier(random_state=7, min_weight_fraction_leaf=0.05)\n",
        "dt.fit(X_train, y_train)\n",
        "y_pred = dt.predict(X_test)"
      ],
      "metadata": {
        "id": "Q5H6GJaaoQCo"
      },
      "execution_count": null,
      "outputs": []
    },
    {
      "cell_type": "code",
      "source": [
        "# Append metrics to table\n",
        "table = append_metrics_to_table(table, 'Decision Tree', y_pred, y_test)"
      ],
      "metadata": {
        "id": "JplVGKLYoQRd"
      },
      "execution_count": null,
      "outputs": []
    },
    {
      "cell_type": "code",
      "source": [
        "plot_confusion_matrix(y_test, y_pred, title='Confusion Matrix for LogReg(with preprocessing)', labels=[0,1])\n"
      ],
      "metadata": {
        "colab": {
          "base_uri": "https://localhost:8080/",
          "height": 289
        },
        "id": "cYoS9h1OoQgz",
        "outputId": "6effdad8-e443-4675-e870-cb6303d8f622"
      },
      "execution_count": null,
      "outputs": [
        {
          "output_type": "display_data",
          "data": {
            "text/plain": [
              "<Figure size 432x288 with 2 Axes>"
            ],
            "image/png": "[encoded data removed]"
          },
          "metadata": {
            "needs_background": "light"
          }
        }
      ]
    },
    {
      "cell_type": "markdown",
      "source": [
        "#### Feature Importance Plot"
      ],
      "metadata": {
        "id": "LMgtIv94o1rW"
      }
    },
    {
      "cell_type": "code",
      "source": [
        "features = X_train.columns\n",
        "importances = dt.feature_importances_\n",
        "indices = np.argsort(importances)\n",
        "\n",
        "plt.title('Feature Importances')\n",
        "plt.barh(range(len(indices)), importances[indices], color='b', align='center')\n",
        "plt.yticks(range(len(indices)), [features[i] for i in indices])\n",
        "plt.xlabel('Relative Importance')\n",
        "plt.show()"
      ],
      "metadata": {
        "colab": {
          "base_uri": "https://localhost:8080/",
          "height": 295
        },
        "id": "40fkrMbVo1rW",
        "outputId": "f08fc461-13c2-465a-93e4-4628c238d0de"
      },
      "execution_count": null,
      "outputs": [
        {
          "output_type": "display_data",
          "data": {
            "text/plain": [
              "<Figure size 432x288 with 1 Axes>"
            ],
            "image/png": "[encoded data removed]"
          },
          "metadata": {
            "needs_background": "light"
          }
        }
      ]
    },
    {
      "cell_type": "markdown",
      "source": [
        "### RandomForestClassifier"
      ],
      "metadata": {
        "id": "OpWWPduxVzDG"
      }
    },
    {
      "cell_type": "code",
      "source": [
        "clf = RandomForestClassifier(random_state=7)\n",
        "clf.fit(X_train, y_train)\n",
        "y_pred = clf.predict(X_test)\n"
      ],
      "metadata": {
        "id": "oOnt9BXrUa_k"
      },
      "execution_count": null,
      "outputs": []
    },
    {
      "cell_type": "code",
      "source": [
        "# Append metrics to table\n",
        "table = append_metrics_to_table(table, 'RandomForestClassifier', y_pred, y_test)"
      ],
      "metadata": {
        "id": "VrZN1eUHWjqn"
      },
      "execution_count": null,
      "outputs": []
    },
    {
      "cell_type": "code",
      "source": [
        "plot_confusion_matrix(y_test, y_pred, title='Confusion Matrix for Random Forest Classifier', labels=[0,1])"
      ],
      "metadata": {
        "id": "kAVbV1O5UbF1",
        "colab": {
          "base_uri": "https://localhost:8080/",
          "height": 289
        },
        "outputId": "94b51df1-43fc-4cfd-940a-9c5a148749bd"
      },
      "execution_count": null,
      "outputs": [
        {
          "output_type": "display_data",
          "data": {
            "text/plain": [
              "<Figure size 432x288 with 2 Axes>"
            ],
            "image/png": "[encoded data removed]"
          },
          "metadata": {
            "needs_background": "light"
          }
        }
      ]
    },
    {
      "cell_type": "markdown",
      "source": [
        "#### Feature Importance Plot"
      ],
      "metadata": {
        "id": "8G7lePn5APln"
      }
    },
    {
      "cell_type": "code",
      "source": [
        "features = X_train.columns\n",
        "importances = clf.feature_importances_\n",
        "indices = np.argsort(importances)\n",
        "\n",
        "plt.title('Feature Importances')\n",
        "plt.barh(range(len(indices)), importances[indices], color='b', align='center')\n",
        "plt.yticks(range(len(indices)), [features[i] for i in indices])\n",
        "plt.xlabel('Relative Importance')\n",
        "plt.show()"
      ],
      "metadata": {
        "colab": {
          "base_uri": "https://localhost:8080/",
          "height": 295
        },
        "id": "23aLHjVIAOY1",
        "outputId": "503b551d-4298-46a4-d159-3d258d5f46de"
      },
      "execution_count": null,
      "outputs": [
        {
          "output_type": "display_data",
          "data": {
            "text/plain": [
              "<Figure size 432x288 with 1 Axes>"
            ],
            "image/png": "[encoded data removed]"
          },
          "metadata": {
            "needs_background": "light"
          }
        }
      ]
    },
    {
      "cell_type": "markdown",
      "source": [
        "### XGBoost"
      ],
      "metadata": {
        "id": "eq3TPv71ZPPI"
      }
    },
    {
      "cell_type": "code",
      "source": [
        "xgb_clf = xgb.XGBClassifier()\n",
        "xgb_clf.fit(X_train, y_train)\n",
        "y_pred = xgb_clf.predict(X_test)"
      ],
      "metadata": {
        "id": "JhdpmgmXUbI2"
      },
      "execution_count": null,
      "outputs": []
    },
    {
      "cell_type": "code",
      "source": [
        "# Append metrics to table\n",
        "table = append_metrics_to_table(table, 'XGBoost Classifier', y_pred, y_test)"
      ],
      "metadata": {
        "id": "zWHOjElyUbOO"
      },
      "execution_count": null,
      "outputs": []
    },
    {
      "cell_type": "code",
      "source": [
        "plot_confusion_matrix(y_test, y_pred, title='Confusion Matrix for XGBoost', labels=[0,1])"
      ],
      "metadata": {
        "colab": {
          "base_uri": "https://localhost:8080/",
          "height": 289
        },
        "id": "HP9HAb-JW2b0",
        "outputId": "a1495b07-41c8-4148-e1f7-4ba5a8ab8993"
      },
      "execution_count": null,
      "outputs": [
        {
          "output_type": "display_data",
          "data": {
            "text/plain": [
              "<Figure size 432x288 with 2 Axes>"
            ],
            "image/png": "[encoded data removed]"
          },
          "metadata": {
            "needs_background": "light"
          }
        }
      ]
    },
    {
      "cell_type": "markdown",
      "source": [
        "#### Feature Importance Plot"
      ],
      "metadata": {
        "id": "xsnJPo1BXDiS"
      }
    },
    {
      "cell_type": "code",
      "source": [
        "features = X_train.columns\n",
        "importances = xgb_clf.feature_importances_\n",
        "indices = np.argsort(importances)\n",
        "\n",
        "plt.title('Feature Importances')\n",
        "plt.barh(range(len(indices)), importances[indices], color='b', align='center')\n",
        "plt.yticks(range(len(indices)), [features[i] for i in indices])\n",
        "plt.xlabel('Relative Importance')\n",
        "plt.show()"
      ],
      "metadata": {
        "colab": {
          "base_uri": "https://localhost:8080/",
          "height": 295
        },
        "outputId": "1bd782c9-6eac-46e3-b77d-9a28e4f2dd2f",
        "id": "RUlmvk3qXDiS"
      },
      "execution_count": null,
      "outputs": [
        {
          "output_type": "display_data",
          "data": {
            "text/plain": [
              "<Figure size 432x288 with 1 Axes>"
            ],
            "image/png": "[encoded data removed]"
          },
          "metadata": {
            "needs_background": "light"
          }
        }
      ]
    },
    {
      "cell_type": "markdown",
      "source": [
        "### Neural Network"
      ],
      "metadata": {
        "id": "f34_ZzpcgQhD"
      }
    },
    {
      "cell_type": "code",
      "source": [
        "def nn_model():\n",
        "  model = Sequential()\n",
        "  model.add(Dense(250, activation = 'relu', input_shape = (5 ,)))\n",
        "  model.add(Dense(100, activation = 'relu'))\n",
        "  model.add(Dense(1, activation='sigmoid'))\n",
        "\n",
        "  model.compile(optimizer='adam', loss = 'binary_crossentropy', metrics = ['accuracy'])\n",
        "  return model"
      ],
      "metadata": {
        "id": "kPs9S2sRUbQ9"
      },
      "execution_count": null,
      "outputs": []
    },
    {
      "cell_type": "code",
      "source": [
        "early_stopping_monitor = EarlyStopping(patience = 2)\n",
        "nn_model = nn_model()\n",
        "nn_model.fit(X_train, y_train, validation_split=0.3, epochs = 30,\\\n",
        "             callbacks=[early_stopping_monitor])\n",
        "y_pred_proba = nn_model.predict(X_test)\n",
        "y_pred = (y_pred_proba > 0.5).astype(int)"
      ],
      "metadata": {
        "id": "7nBsXWW77jOw",
        "colab": {
          "base_uri": "https://localhost:8080/"
        },
        "outputId": "7e712267-ae00-4535-8093-dfcb70614258"
      },
      "execution_count": null,
      "outputs": [
        {
          "output_type": "stream",
          "name": "stdout",
          "text": [
            "Epoch 1/30\n",
            "16407/16407 [==============================] - 62s 4ms/step - loss: 0.0755 - accuracy: 0.9722 - val_loss: 0.0513 - val_accuracy: 0.9752\n",
            "Epoch 2/30\n",
            "16407/16407 [==============================] - 51s 3ms/step - loss: 0.0412 - accuracy: 0.9800 - val_loss: 0.0358 - val_accuracy: 0.9820\n",
            "Epoch 3/30\n",
            "16407/16407 [==============================] - 50s 3ms/step - loss: 0.0389 - accuracy: 0.9809 - val_loss: 0.0602 - val_accuracy: 0.9706\n",
            "Epoch 4/30\n",
            "16407/16407 [==============================] - 48s 3ms/step - loss: 0.0376 - accuracy: 0.9815 - val_loss: 0.0329 - val_accuracy: 0.9838\n",
            "Epoch 5/30\n",
            "16407/16407 [==============================] - 49s 3ms/step - loss: 0.0362 - accuracy: 0.9821 - val_loss: 0.0347 - val_accuracy: 0.9821\n",
            "Epoch 6/30\n",
            "16407/16407 [==============================] - 50s 3ms/step - loss: 0.0360 - accuracy: 0.9824 - val_loss: 0.0331 - val_accuracy: 0.9842\n"
          ]
        }
      ]
    },
    {
      "cell_type": "code",
      "source": [
        "y_pred_proba = nn_model.predict(X_test)\n",
        "y_pred = (y_pred_proba > 0.5).astype(int)"
      ],
      "metadata": {
        "id": "lRLrv7pmYrtw"
      },
      "execution_count": null,
      "outputs": []
    },
    {
      "cell_type": "code",
      "source": [
        "table = append_metrics_to_table(table, 'Nerual Network', y_pred, y_test)"
      ],
      "metadata": {
        "id": "2uWlBkwSCsmt"
      },
      "execution_count": null,
      "outputs": []
    },
    {
      "cell_type": "code",
      "source": [
        "plot_confusion_matrix(y_test, y_pred, title='Confusion Matrix for Neural Network', labels=[0,1])"
      ],
      "metadata": {
        "id": "j_miQtWXC_np",
        "colab": {
          "base_uri": "https://localhost:8080/",
          "height": 289
        },
        "outputId": "96404945-20ad-4ce2-bbeb-6116cf633d44"
      },
      "execution_count": null,
      "outputs": [
        {
          "output_type": "display_data",
          "data": {
            "text/plain": [
              "<Figure size 432x288 with 2 Axes>"
            ],
            "image/png": "[encoded data removed]"
          },
          "metadata": {
            "needs_background": "light"
          }
        }
      ]
    },
    {
      "cell_type": "code",
      "source": [
        "# Display dataframe comparison of all metrics\n",
        "table"
      ],
      "metadata": {
        "id": "L0MNT3exC71j",
        "colab": {
          "base_uri": "https://localhost:8080/",
          "height": 206
        },
        "outputId": "57280aab-1262-4c41-c2db-0fb1ddbf4f57"
      },
      "execution_count": null,
      "outputs": [
        {
          "output_type": "execute_result",
          "data": {
            "text/plain": [
              "                    Model  Accuracy     AUROC  Precision    Recall\n",
              "0  Logreg without preproc  0.956212  0.918922   0.577560  0.876807\n",
              "1           Decision Tree  0.939416  0.801751   0.741283  0.628569\n",
              "2  RandomForestClassifier  0.985120  0.940172   0.952848  0.884868\n",
              "3      XGBoost Classifier  0.986904  0.934777   0.999172  0.869635\n",
              "4          Nerual Network  0.984544  0.933280   0.967108  0.869725"
            ],
            "text/html": [
              "\n",
              "  <div id=\"df-83de57d2-52f3-4530-858f-3cab19f8eff1\">\n",
              "    <div class=\"colab-df-container\">\n",
              "      <div>\n",
              "<style scoped>\n",
              "    .dataframe tbody tr th:only-of-type {\n",
              "        vertical-align: middle;\n",
              "    }\n",
              "\n",
              "    .dataframe tbody tr th {\n",
              "        vertical-align: top;\n",
              "    }\n",
              "\n",
              "    .dataframe thead th {\n",
              "        text-align: right;\n",
              "    }\n",
              "</style>\n",
              "<table border=\"1\" class=\"dataframe\">\n",
              "  <thead>\n",
              "    <tr style=\"text-align: right;\">\n",
              "      <th></th>\n",
              "      <th>Model</th>\n",
              "      <th>Accuracy</th>\n",
              "      <th>AUROC</th>\n",
              "      <th>Precision</th>\n",
              "      <th>Recall</th>\n",
              "    </tr>\n",
              "  </thead>\n",
              "  <tbody>\n",
              "    <tr>\n",
              "      <th>0</th>\n",
              "      <td>Logreg without preproc</td>\n",
              "      <td>0.956212</td>\n",
              "      <td>0.918922</td>\n",
              "      <td>0.577560</td>\n",
              "      <td>0.876807</td>\n",
              "    </tr>\n",
              "    <tr>\n",
              "      <th>1</th>\n",
              "      <td>Decision Tree</td>\n",
              "      <td>0.939416</td>\n",
              "      <td>0.801751</td>\n",
              "      <td>0.741283</td>\n",
              "      <td>0.628569</td>\n",
              "    </tr>\n",
              "    <tr>\n",
              "      <th>2</th>\n",
              "      <td>RandomForestClassifier</td>\n",
              "      <td>0.985120</td>\n",
              "      <td>0.940172</td>\n",
              "      <td>0.952848</td>\n",
              "      <td>0.884868</td>\n",
              "    </tr>\n",
              "    <tr>\n",
              "      <th>3</th>\n",
              "      <td>XGBoost Classifier</td>\n",
              "      <td>0.986904</td>\n",
              "      <td>0.934777</td>\n",
              "      <td>0.999172</td>\n",
              "      <td>0.869635</td>\n",
              "    </tr>\n",
              "    <tr>\n",
              "      <th>4</th>\n",
              "      <td>Nerual Network</td>\n",
              "      <td>0.984544</td>\n",
              "      <td>0.933280</td>\n",
              "      <td>0.967108</td>\n",
              "      <td>0.869725</td>\n",
              "    </tr>\n",
              "  </tbody>\n",
              "</table>\n",
              "</div>\n",
              "      <button class=\"colab-df-convert\" onclick=\"convertToInteractive('df-83de57d2-52f3-4530-858f-3cab19f8eff1')\"\n",
              "              title=\"Convert this dataframe to an interactive table.\"\n",
              "              style=\"display:none;\">\n",
              "        \n",
              "  <svg xmlns=\"http://www.w3.org/2000/svg\" height=\"24px\"viewBox=\"0 0 24 24\"\n",
              "       width=\"24px\">\n",
              "    <path d=\"M0 0h24v24H0V0z\" fill=\"none\"/>\n",
              "    <path d=\"M18.56 5.44l.94 2.06.94-2.06 2.06-.94-2.06-.94-.94-2.06-.94 2.06-2.06.94zm-11 1L8.5 8.5l.94-2.06 2.06-.94-2.06-.94L8.5 2.5l-.94 2.06-2.06.94zm10 10l.94 2.06.94-2.06 2.06-.94-2.06-.94-.94-2.06-.94 2.06-2.06.94z\"/><path d=\"M17.41 7.96l-1.37-1.37c-.4-.4-.92-.59-1.43-.59-.52 0-1.04.2-1.43.59L10.3 9.45l-7.72 7.72c-.78.78-.78 2.05 0 2.83L4 21.41c.39.39.9.59 1.41.59.51 0 1.02-.2 1.41-.59l7.78-7.78 2.81-2.81c.8-.78.8-2.07 0-2.86zM5.41 20L4 18.59l7.72-7.72 1.47 1.35L5.41 20z\"/>\n",
              "  </svg>\n",
              "      </button>\n",
              "      \n",
              "  <style>\n",
              "    .colab-df-container {\n",
              "      display:flex;\n",
              "      flex-wrap:wrap;\n",
              "      gap: 12px;\n",
              "    }\n",
              "\n",
              "    .colab-df-convert {\n",
              "      background-color: #E8F0FE;\n",
              "      border: none;\n",
              "      border-radius: 50%;\n",
              "      cursor: pointer;\n",
              "      display: none;\n",
              "      fill: #1967D2;\n",
              "      height: 32px;\n",
              "      padding: 0 0 0 0;\n",
              "      width: 32px;\n",
              "    }\n",
              "\n",
              "    .colab-df-convert:hover {\n",
              "      background-color: #E2EBFA;\n",
              "      box-shadow: 0px 1px 2px rgba(60, 64, 67, 0.3), 0px 1px 3px 1px rgba(60, 64, 67, 0.15);\n",
              "      fill: #174EA6;\n",
              "    }\n",
              "\n",
              "    [theme=dark] .colab-df-convert {\n",
              "      background-color: #3B4455;\n",
              "      fill: #D2E3FC;\n",
              "    }\n",
              "\n",
              "    [theme=dark] .colab-df-convert:hover {\n",
              "      background-color: #434B5C;\n",
              "      box-shadow: 0px 1px 3px 1px rgba(0, 0, 0, 0.15);\n",
              "      filter: drop-shadow(0px 1px 2px rgba(0, 0, 0, 0.3));\n",
              "      fill: #FFFFFF;\n",
              "    }\n",
              "  </style>\n",
              "\n",
              "      <script>\n",
              "        const buttonEl =\n",
              "          document.querySelector('#df-83de57d2-52f3-4530-858f-3cab19f8eff1 button.colab-df-convert');\n",
              "        buttonEl.style.display =\n",
              "          google.colab.kernel.accessAllowed ? 'block' : 'none';\n",
              "\n",
              "        async function convertToInteractive(key) {\n",
              "          const element = document.querySelector('#df-83de57d2-52f3-4530-858f-3cab19f8eff1');\n",
              "          const dataTable =\n",
              "            await google.colab.kernel.invokeFunction('convertToInteractive',\n",
              "                                                     [key], {});\n",
              "          if (!dataTable) return;\n",
              "\n",
              "          const docLinkHtml = 'Like what you see? Visit the ' +\n",
              "            '<a target=\"_blank\" href=https://colab.research.google.com/notebooks/data_table.ipynb>data table notebook</a>'\n",
              "            + ' to learn more about interactive tables.';\n",
              "          element.innerHTML = '';\n",
              "          dataTable['output_type'] = 'display_data';\n",
              "          await google.colab.output.renderOutput(dataTable, element);\n",
              "          const docLink = document.createElement('div');\n",
              "          docLink.innerHTML = docLinkHtml;\n",
              "          element.appendChild(docLink);\n",
              "        }\n",
              "      </script>\n",
              "    </div>\n",
              "  </div>\n",
              "  "
            ]
          },
          "metadata": {},
          "execution_count": 66
        }
      ]
    },
    {
      "cell_type": "markdown",
      "source": [
        "References:<br>\n",
        "1) https://machinelearningmastery.com/smote-oversampling-for-imbalanced-classification/\n"
      ],
      "metadata": {
        "id": "MXMcLxgGR4Hz"
      }
    },
    {
      "cell_type": "code",
      "source": [
        ""
      ],
      "metadata": {
        "id": "JLlgTNZ1u3Yh"
      },
      "execution_count": null,
      "outputs": []
    }
  ]
}